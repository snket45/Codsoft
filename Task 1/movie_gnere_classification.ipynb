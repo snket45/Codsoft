{
  "nbformat": 4,
  "nbformat_minor": 0,
  "metadata": {
    "colab": {
      "provenance": []
    },
    "kernelspec": {
      "name": "python3",
      "display_name": "Python 3"
    },
    "language_info": {
      "name": "python"
    }
  },
  "cells": [
    {
      "cell_type": "code",
      "source": [
        "import pandas as pd\n",
        "from sklearn.feature_extraction.text import TfidfVectorizer\n",
        "from sklearn.model_selection import train_test_split\n",
        "from sklearn.naive_bayes import MultinomialNB\n",
        "from sklearn.linear_model import LogisticRegression\n",
        "from sklearn.svm import SVC\n",
        "from sklearn.metrics import classification_report"
      ],
      "metadata": {
        "id": "lArSfgmJC-u-"
      },
      "execution_count": 17,
      "outputs": []
    },
    {
      "cell_type": "code",
      "source": [
        "training_data_file = \"train_data.txt\"\n",
        "validation_data_file = \"test_data_solution.txt\"\n",
        "test_data_file = \"test_data.txt\"\n"
      ],
      "metadata": {
        "id": "TiJxB72LDHSd"
      },
      "execution_count": 18,
      "outputs": []
    },
    {
      "cell_type": "code",
      "source": [
        "train_df = pd.read_csv(training_data_file, delimiter=\" ::: \", names=[\"index\", \"movie_name\", \"genre\", \"description\"], engine='python')\n",
        "validation_df = pd.read_csv(validation_data_file, delimiter=\" ::: \", names=[\"index\", \"movie_name\", \"genre\", \"description\"], engine='python')\n",
        "test_df = pd.read_csv(test_data_file, delimiter=\" ::: \", names=[\"index\", \"movie_name\", \"description\"], engine='python')\n"
      ],
      "metadata": {
        "id": "qcK5ubQPFsEw"
      },
      "execution_count": 19,
      "outputs": []
    },
    {
      "cell_type": "code",
      "source": [
        "\n",
        "combined_df = pd.concat([train_df, validation_df])\n",
        "\n",
        "tfidf_vectorizer = TfidfVectorizer(max_features=5000, stop_words='english')\n",
        "X = tfidf_vectorizer.fit_transform(combined_df['description'])\n",
        "y = combined_df['genre']\n",
        "\n",
        "X_train, X_val, y_train, y_val = train_test_split(X, y, test_size=0.2, random_state=42)\n",
        "\n",
        "classifier = SVC(kernel='linear')\n",
        "classifier.fit(X_train, y_train)\n",
        "X_test = tfidf_vectorizer.transform(test_df['description'])\n",
        "y_pred = classifier.predict(X_test)\n",
        "\n",
        "\n",
        "test_df['predicted_genre'] = y_pred\n"
      ],
      "metadata": {
        "id": "AqYocD7zDRpM"
      },
      "execution_count": 20,
      "outputs": []
    },
    {
      "cell_type": "code",
      "execution_count": 21,
      "metadata": {
        "colab": {
          "base_uri": "https://localhost:8080/"
        },
        "id": "8T2ESFx7C1Go",
        "outputId": "0e5de49a-80c8-4fc0-9937-53c4ca8c8dd0"
      },
      "outputs": [
        {
          "name": "stdout",
          "output_type": "stream",
          "text": [
            "Enter a movie name (or 'quit' to exit): The Kettles on Old MacDonald's Farm (1957)\n",
            "Predicted Genre for 'The Kettles on Old MacDonald's Farm (1957)': comedy\n",
            "Enter a movie name (or 'quit' to exit): The Silent Rice Fields of Bakan (2016)\n",
            "Predicted Genre for 'The Silent Rice Fields of Bakan (2016)': documentary\n",
            "Enter a movie name (or 'quit' to exit): quit\n"
          ]
        }
      ],
      "source": [
        "\n",
        "while True:\n",
        "    movie_name = input(\"Enter a movie name (or 'quit' to exit): \")\n",
        "    if movie_name.lower() == 'quit':\n",
        "        break\n",
        "    else:\n",
        "        movie = test_df[test_df['movie_name'] == movie_name]\n",
        "        if not movie.empty:\n",
        "            predicted_genre = movie.iloc[0]['predicted_genre']\n",
        "            print(f\"Predicted Genre for '{movie_name}': {predicted_genre}\")\n",
        "        else:\n",
        "            print(f\"Movie '{movie_name}' not found in the test dataset.\")\n",
        "\n",
        "\n"
      ]
    }
  ]
}